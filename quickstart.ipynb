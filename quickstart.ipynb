{
  "cells": [
    {
      "cell_type": "markdown",
      "metadata": {
        "colab_type": "text",
        "id": "view-in-github"
      },
      "source": [
        "<a href=\"https://colab.research.google.com/github/arnu123/TurboMLExploration/blob/main/quickstart.ipynb\" target=\"_parent\"><img src=\"https://colab.research.google.com/assets/colab-badge.svg\" alt=\"Open In Colab\"/></a>"
      ]
    },
    {
      "cell_type": "markdown",
      "id": "0",
      "metadata": {
        "id": "0"
      },
      "source": [
        "# TurboML Exploration"
      ]
    },
    {
      "cell_type": "code",
      "execution_count": null,
      "id": "jp5eYcV-lEb2",
      "metadata": {
        "colab": {
          "base_uri": "https://localhost:8080/"
        },
        "id": "jp5eYcV-lEb2",
        "outputId": "f8dab841-09b5-4ee6-9f42-8276e610dc7f"
      },
      "outputs": [],
      "source": [
        "!pip install -q turboml-installer\n",
        "import turboml_installer ; turboml_installer.install_on_colab()"
      ]
    },
    {
      "cell_type": "code",
      "execution_count": null,
      "id": "1",
      "metadata": {
        "id": "1"
      },
      "outputs": [],
      "source": [
        "import turboml as tb\n",
        "\n",
        "tb.init(\n",
        "  backend_url=\"********\",\n",
        "  api_key=\"********\"\n",
        ")"
      ]
    },
    {
      "cell_type": "code",
      "execution_count": null,
      "id": "J7JPp87b0ft1",
      "metadata": {
        "colab": {
          "base_uri": "https://localhost:8080/"
        },
        "id": "J7JPp87b0ft1",
        "outputId": "56ce219f-e129-4dbd-c712-f5f1682ff3e5"
      },
      "outputs": [],
      "source": [
        "!pip install onnx==1.14.1 scikit-learn skl2onnx"
      ]
    },
    {
      "cell_type": "code",
      "execution_count": 3,
      "id": "PN9oiD8H0iUa",
      "metadata": {
        "id": "PN9oiD8H0iUa"
      },
      "outputs": [],
      "source": [
        "import pandas as pd\n",
        "from sklearn.ensemble import RandomForestClassifier\n",
        "from sklearn.model_selection import train_test_split\n",
        "from sklearn.metrics import accuracy_score\n",
        "from skl2onnx import convert_sklearn\n",
        "from skl2onnx.common.data_types import FloatTensorType\n",
        "from skl2onnx.helpers.onnx_helper import select_model_inputs_outputs\n",
        "import matplotlib.pyplot as plt"
      ]
    },
    {
      "cell_type": "markdown",
      "id": "Dh46OCxlIBjB",
      "metadata": {
        "id": "Dh46OCxlIBjB"
      },
      "source": [
        "### Dealing with the data"
      ]
    },
    {
      "cell_type": "code",
      "execution_count": 5,
      "id": "3",
      "metadata": {
        "id": "3"
      },
      "outputs": [],
      "source": [
        "bank_df = pd.read_csv(\"bank.csv\")"
      ]
    },
    {
      "cell_type": "code",
      "execution_count": null,
      "id": "5ycvw3Mrw8oN",
      "metadata": {
        "colab": {
          "base_uri": "https://localhost:8080/",
          "height": 206
        },
        "id": "5ycvw3Mrw8oN",
        "outputId": "a5994b62-8fa3-4948-c3e6-602483e85739"
      },
      "outputs": [],
      "source": [
        "bank_df.head()"
      ]
    },
    {
      "cell_type": "code",
      "execution_count": null,
      "id": "2FiU1AzWVTDo",
      "metadata": {
        "colab": {
          "base_uri": "https://localhost:8080/",
          "height": 617
        },
        "id": "2FiU1AzWVTDo",
        "outputId": "65866e13-7165-483a-d388-f728e2e94764"
      },
      "outputs": [],
      "source": [
        "bank_df.dtypes"
      ]
    },
    {
      "cell_type": "code",
      "execution_count": null,
      "id": "7AdmDhEDCE5f",
      "metadata": {
        "colab": {
          "base_uri": "https://localhost:8080/"
        },
        "id": "7AdmDhEDCE5f",
        "outputId": "68766bb6-d128-4943-e2f0-fcc4dfd6c9f2"
      },
      "outputs": [],
      "source": [
        "# Lets explore the unique values in each column of bank_df\n",
        "for col in bank_df.columns:\n",
        "    print(col, bank_df[col].unique())"
      ]
    },
    {
      "cell_type": "markdown",
      "id": "Yr7wYyvjIXe_",
      "metadata": {
        "id": "Yr7wYyvjIXe_"
      },
      "source": [
        "#### There is no pre-defined primary key. Hence, we use the inbuilt index as the primary key."
      ]
    },
    {
      "cell_type": "code",
      "execution_count": 9,
      "id": "b0VFwzbu3hPY",
      "metadata": {
        "id": "b0VFwzbu3hPY"
      },
      "outputs": [],
      "source": [
        "bank_df['primary_key'] = bank_df.index"
      ]
    },
    {
      "cell_type": "code",
      "execution_count": null,
      "id": "F1YiS60EyNKk",
      "metadata": {
        "colab": {
          "base_uri": "https://localhost:8080/"
        },
        "collapsed": true,
        "id": "F1YiS60EyNKk",
        "outputId": "4141aa00-af69-4d51-fe26-fe76b3b5193c"
      },
      "outputs": [],
      "source": [
        "#lets see what unique values are there in pdays column\n",
        "bank_df['pdays'].unique()"
      ]
    },
    {
      "cell_type": "markdown",
      "id": "pIS3lZrPyhFT",
      "metadata": {
        "id": "pIS3lZrPyhFT"
      },
      "source": [
        "##### There are '-1' values in pdays representing clients who have never been contacted. Thus, we ignore these.\n"
      ]
    },
    {
      "cell_type": "code",
      "execution_count": 11,
      "id": "Dsf79iS2yX_A",
      "metadata": {
        "id": "Dsf79iS2yX_A"
      },
      "outputs": [],
      "source": [
        "bank_df = bank_df[bank_df['pdays']!=-1]"
      ]
    },
    {
      "cell_type": "code",
      "execution_count": 12,
      "id": "XYHrf420005h",
      "metadata": {
        "id": "XYHrf420005h"
      },
      "outputs": [],
      "source": [
        "labels_df = bank_df[['primary_key','deposit']]\n",
        "bank_df = bank_df.drop('deposit', axis=1)"
      ]
    },
    {
      "cell_type": "code",
      "execution_count": 13,
      "id": "QTFNh0DSVgq5",
      "metadata": {
        "id": "QTFNh0DSVgq5"
      },
      "outputs": [],
      "source": [
        "# Lets convert the values in column \"deposit\" to binary.\n",
        "labels_df['deposit'] = labels_df['deposit'].apply(lambda x: 1 if x=='yes' else 0)"
      ]
    },
    {
      "cell_type": "code",
      "execution_count": null,
      "id": "0D9O-l2l1Y43",
      "metadata": {
        "colab": {
          "base_uri": "https://localhost:8080/",
          "height": 423
        },
        "id": "0D9O-l2l1Y43",
        "outputId": "f32807cc-a560-4736-fd3c-e0feb6043fb5"
      },
      "outputs": [],
      "source": [
        "joined_df = pd.merge(bank_df, labels_df, on=\"primary_key\", how=\"right\")\n",
        "joined_df"
      ]
    },
    {
      "cell_type": "code",
      "execution_count": 15,
      "id": "tfyiUKUv1th7",
      "metadata": {
        "id": "tfyiUKUv1th7"
      },
      "outputs": [],
      "source": [
        "X = joined_df.drop(\"deposit\", axis=1)\n",
        "y = joined_df[\"deposit\"]"
      ]
    },
    {
      "cell_type": "code",
      "execution_count": 16,
      "id": "VB7OI6bYBVPI",
      "metadata": {
        "id": "VB7OI6bYBVPI"
      },
      "outputs": [],
      "source": [
        "X_encoded = pd.get_dummies(X) #one-hot for categorical variables encoding"
      ]
    },
    {
      "cell_type": "code",
      "execution_count": 17,
      "id": "05VoRUUxtPvT",
      "metadata": {
        "id": "05VoRUUxtPvT"
      },
      "outputs": [],
      "source": [
        "# lets change job_admin. to job_admin column name\n",
        "X_encoded.rename(columns={'job_admin.': 'job_admin'}, inplace=True)\n",
        "X_encoded.rename(columns={'job_blue-collar': 'job_blue_collar'}, inplace=True)\n",
        "X_encoded.rename(columns={'job_self-employed': 'job_self_employed'}, inplace=True)"
      ]
    },
    {
      "cell_type": "code",
      "execution_count": 18,
      "id": "YjzLeEifiZk_",
      "metadata": {
        "id": "YjzLeEifiZk_"
      },
      "outputs": [],
      "source": [
        "# lets change job_admin. to job_admin column name\n",
        "bank_df.rename(columns={'job_admin.': 'job_admin'}, inplace=True)\n",
        "bank_df.rename(columns={'job_blue-collar': 'job_bluecollar'}, inplace=True)\n"
      ]
    },
    {
      "cell_type": "code",
      "execution_count": null,
      "id": "Xdg30yIDBhVF",
      "metadata": {
        "colab": {
          "base_uri": "https://localhost:8080/"
        },
        "id": "Xdg30yIDBhVF",
        "outputId": "b3a84bbd-6344-4b8d-e81c-9dc5473ec88d"
      },
      "outputs": [],
      "source": [
        "X_train, X_test, y_train, y_test = train_test_split(\n",
        "    X_encoded, y, test_size=0.25, random_state=42\n",
        ")\n",
        "\n",
        "clf = RandomForestClassifier()\n",
        "clf.fit(X_train, y_train)\n",
        "\n",
        "y_pred = clf.predict(X_test)\n",
        "accuracy = accuracy_score(y_test, y_pred)\n",
        "print(\"Accuracy:\", accuracy)"
      ]
    },
    {
      "cell_type": "code",
      "execution_count": 27,
      "id": "ar5O321GCZBM",
      "metadata": {
        "id": "ar5O321GCZBM"
      },
      "outputs": [],
      "source": [
        "initial_type = [(\"float_input\", FloatTensorType([None, X_train.shape[1]]))]\n",
        "onx = convert_sklearn(\n",
        "    clf, initial_types=initial_type, options={type(clf): {\"zipmap\": False}}\n",
        ")\n",
        "onx = select_model_inputs_outputs(onx, outputs=[\"probabilities\"])"
      ]
    },
    {
      "cell_type": "markdown",
      "id": "9",
      "metadata": {
        "id": "9"
      },
      "source": [
        "# TurboML Data Digestion and Model Building"
      ]
    },
    {
      "cell_type": "code",
      "execution_count": null,
      "id": "5QcZlr9RG8uG",
      "metadata": {
        "colab": {
          "base_uri": "https://localhost:8080/"
        },
        "id": "5QcZlr9RG8uG",
        "outputId": "4a71bcf5-0a9a-4605-da5a-3292a4a0fbe2"
      },
      "outputs": [],
      "source": [
        "bank = tb.OnlineDataset.from_pd(\n",
        "    id=\"details7\",\n",
        "    df=bank_df,\n",
        "    key_field=\"primary_key\",\n",
        "    load_if_exists=True,\n",
        ")\n",
        "\n",
        "labels = tb.OnlineDataset.from_pd(\n",
        "    id=\"details_labels5\",\n",
        "    df=labels_df,\n",
        "    key_field=\"primary_key\",\n",
        "    load_if_exists=True,\n",
        ")"
      ]
    },
    {
      "cell_type": "code",
      "execution_count": null,
      "id": "gv3Mb4oauao2",
      "metadata": {
        "colab": {
          "base_uri": "https://localhost:8080/",
          "height": 423
        },
        "id": "gv3Mb4oauao2",
        "outputId": "95a1ecf7-31af-4811-bc63-fc110f0c5ecb"
      },
      "outputs": [],
      "source": [
        "bank.feature_engineering.get_local_features()"
      ]
    },
    {
      "cell_type": "code",
      "execution_count": 31,
      "id": "6Bn43_zQgR9M",
      "metadata": {
        "id": "6Bn43_zQgR9M"
      },
      "outputs": [],
      "source": [
        "numerical_fields = ['age','balance','day','duration','campaign','pdays','previous']\n",
        "\n",
        "features = bank.get_model_inputs(numerical_fields=numerical_fields)\n",
        "label = labels.get_model_labels(label_field=\"deposit\")"
      ]
    },
    {
      "cell_type": "code",
      "execution_count": 32,
      "id": "o-mAHtvMaC6F",
      "metadata": {
        "id": "o-mAHtvMaC6F"
      },
      "outputs": [],
      "source": [
        "tb.set_onnx_model(\"randomforest\", onx.SerializeToString())\n",
        "onnx_model = tb.ONNX(model_save_name=\"randomforest\")"
      ]
    },
    {
      "cell_type": "code",
      "execution_count": 34,
      "id": "xD_oePHOaHz8",
      "metadata": {
        "id": "xD_oePHOaHz8"
      },
      "outputs": [],
      "source": [
        "deployed_model = onnx_model.deploy(\"onnx_model1\", input=features, labels=label)"
      ]
    },
    {
      "cell_type": "code",
      "execution_count": 35,
      "id": "xg0nnxFPhc7A",
      "metadata": {
        "id": "xg0nnxFPhc7A"
      },
      "outputs": [],
      "source": [
        "deployed_model.add_metric(\"WindowedAUC\")"
      ]
    },
    {
      "cell_type": "markdown",
      "id": "9f4xEswXOh7G",
      "metadata": {
        "id": "9f4xEswXOh7G"
      },
      "source": [
        "### Checking TurboML inbuilt algorithms"
      ]
    },
    {
      "cell_type": "code",
      "execution_count": null,
      "id": "29",
      "metadata": {
        "colab": {
          "base_uri": "https://localhost:8080/"
        },
        "id": "29",
        "outputId": "3c409988-077e-42fd-afc5-35ee465586ce"
      },
      "outputs": [],
      "source": [
        "tb.ml_algorithms(have_labels=False)"
      ]
    },
    {
      "cell_type": "markdown",
      "id": "30",
      "metadata": {
        "id": "30"
      },
      "source": [
        "Let's use the RandomCutForest (RCF) algorithm."
      ]
    },
    {
      "cell_type": "code",
      "execution_count": 38,
      "id": "32",
      "metadata": {
        "id": "32"
      },
      "outputs": [],
      "source": [
        "model = tb.RCF(number_of_trees=50)"
      ]
    },
    {
      "cell_type": "code",
      "execution_count": 40,
      "id": "36",
      "metadata": {
        "id": "36"
      },
      "outputs": [],
      "source": [
        "deployed_model_rcf = model.deploy(name=\"explore_unsup1\", input=features, labels=label)"
      ]
    },
    {
      "cell_type": "code",
      "execution_count": null,
      "id": "38",
      "metadata": {
        "colab": {
          "base_uri": "https://localhost:8080/"
        },
        "id": "38",
        "outputId": "dbdd56a8-8782-459a-d200-79cbeb28c186"
      },
      "outputs": [],
      "source": [
        "outputs = deployed_model_rcf.get_outputs()"
      ]
    },
    {
      "cell_type": "code",
      "execution_count": null,
      "id": "40",
      "metadata": {
        "colab": {
          "base_uri": "https://localhost:8080/"
        },
        "id": "40",
        "outputId": "1db2fcd7-0247-4ac6-92ef-f6714cce7e6c"
      },
      "outputs": [],
      "source": [
        "sample_output = outputs[-1]\n",
        "sample_output"
      ]
    },
    {
      "cell_type": "code",
      "execution_count": null,
      "id": "42",
      "metadata": {
        "colab": {
          "base_uri": "https://localhost:8080/",
          "height": 448
        },
        "id": "42",
        "outputId": "4c8ae130-45b3-4924-e878-47a9d96aba56"
      },
      "outputs": [],
      "source": [
        "import matplotlib.pyplot as plt\n",
        "\n",
        "plt.plot([output[\"record\"].score for output in outputs])"
      ]
    },
    {
      "cell_type": "code",
      "execution_count": null,
      "id": "44",
      "metadata": {
        "colab": {
          "base_uri": "https://localhost:8080/"
        },
        "id": "44",
        "outputId": "4d37760a-dec0-44c3-d65f-3fc327086f42"
      },
      "outputs": [],
      "source": [
        "model_endpoints = deployed_model_rcf.get_endpoints()\n",
        "model_endpoints"
      ]
    },
    {
      "cell_type": "code",
      "execution_count": null,
      "id": "46",
      "metadata": {
        "colab": {
          "base_uri": "https://localhost:8080/"
        },
        "id": "46",
        "outputId": "880e2742-c5ae-4544-cb71-d845a50d33ec"
      },
      "outputs": [],
      "source": [
        "model_query_datapoint = bank_df.iloc[-1].to_dict()\n",
        "model_query_datapoint"
      ]
    },
    {
      "cell_type": "code",
      "execution_count": 47,
      "id": "47",
      "metadata": {
        "id": "47"
      },
      "outputs": [],
      "source": [
        "import requests\n",
        "\n",
        "resp = requests.post(\n",
        "    model_endpoints[0], json=model_query_datapoint, headers=tb.common.api.headers\n",
        ")"
      ]
    },
    {
      "cell_type": "code",
      "execution_count": null,
      "id": "48",
      "metadata": {
        "colab": {
          "base_uri": "https://localhost:8080/"
        },
        "id": "48",
        "outputId": "f3c03707-15f0-4e9d-e64f-a2a131607f83"
      },
      "outputs": [],
      "source": [
        "resp.json()"
      ]
    },
    {
      "cell_type": "markdown",
      "id": "49",
      "metadata": {
        "id": "49"
      },
      "source": [
        "### Batch Inference on our Model"
      ]
    },
    {
      "cell_type": "code",
      "execution_count": null,
      "id": "50",
      "metadata": {
        "colab": {
          "base_uri": "https://localhost:8080/",
          "height": 527
        },
        "id": "50",
        "outputId": "ae272354-b071-42ed-a2dc-15ce45555094"
      },
      "outputs": [],
      "source": [
        "outputs = deployed_model_rcf.get_inference(bank_df)\n",
        "outputs"
      ]
    },
    {
      "cell_type": "code",
      "execution_count": 50,
      "id": "55",
      "metadata": {
        "id": "55"
      },
      "outputs": [],
      "source": [
        "deployed_model_rcf.add_metric(\"WindowedAUC\")"
      ]
    },
    {
      "cell_type": "code",
      "execution_count": null,
      "id": "PZKL9Bmr3h9E",
      "metadata": {
        "colab": {
          "base_uri": "https://localhost:8080/"
        },
        "id": "PZKL9Bmr3h9E",
        "outputId": "6481d0b8-5a74-41f5-d9b5-acfa65942791"
      },
      "outputs": [],
      "source": [
        "model_auc_scores = deployed_model_rcf.get_evaluation(\n",
        "    \"WindowedAUC\",\n",
        "\n",
        "    window_size=200,\n",
        ")\n",
        "# model_auc_scores = deployed_model_rcf.get_evaluation(\"WindowedAUC\")\n",
        "model_auc_scores[-1]"
      ]
    },
    {
      "cell_type": "markdown",
      "id": "63",
      "metadata": {
        "id": "63"
      },
      "source": [
        "### Lets try out Supervised Learning"
      ]
    },
    {
      "cell_type": "code",
      "execution_count": null,
      "id": "64",
      "metadata": {
        "colab": {
          "base_uri": "https://localhost:8080/"
        },
        "id": "64",
        "outputId": "2f6400e6-dfdc-4f8a-89a3-1d711d6ee454"
      },
      "outputs": [],
      "source": [
        "tb.ml_algorithms(have_labels=True)"
      ]
    },
    {
      "cell_type": "code",
      "execution_count": 68,
      "id": "66",
      "metadata": {
        "id": "66"
      },
      "outputs": [],
      "source": [
        "model = tb.HoeffdingTreeClassifier(n_classes=2)"
      ]
    },
    {
      "cell_type": "code",
      "execution_count": 70,
      "id": "70",
      "metadata": {
        "id": "70"
      },
      "outputs": [],
      "source": [
        "deployed_model_htc = model.deploy(\"explore\", input=features, labels=label)"
      ]
    },
    {
      "cell_type": "markdown",
      "id": "71",
      "metadata": {
        "id": "71"
      },
      "source": [
        "We can now inspect the outputs."
      ]
    },
    {
      "cell_type": "code",
      "execution_count": null,
      "id": "72",
      "metadata": {
        "colab": {
          "base_uri": "https://localhost:8080/"
        },
        "id": "72",
        "outputId": "c1a96093-3a64-4b2c-fd68-d17595e81bc0"
      },
      "outputs": [],
      "source": [
        "outputs = deployed_model_htc.get_outputs()"
      ]
    },
    {
      "cell_type": "code",
      "execution_count": null,
      "id": "73",
      "metadata": {
        "colab": {
          "base_uri": "https://localhost:8080/"
        },
        "id": "73",
        "outputId": "770b2f1c-fef8-4ec4-88cb-1850a9ccf233"
      },
      "outputs": [],
      "source": [
        "len(outputs)"
      ]
    },
    {
      "cell_type": "code",
      "execution_count": null,
      "id": "74",
      "metadata": {
        "colab": {
          "base_uri": "https://localhost:8080/"
        },
        "id": "74",
        "outputId": "8c93f9a0-34c7-4a35-feda-5494769db7fd"
      },
      "outputs": [],
      "source": [
        "sample_output = outputs[-1]\n",
        "sample_output"
      ]
    },
    {
      "cell_type": "code",
      "execution_count": null,
      "id": "77",
      "metadata": {
        "colab": {
          "base_uri": "https://localhost:8080/"
        },
        "id": "77",
        "outputId": "1ba85c86-da8a-4600-f614-551be363c346"
      },
      "outputs": [],
      "source": [
        "model_endpoints = deployed_model_htc.get_endpoints()\n",
        "model_endpoints"
      ]
    },
    {
      "cell_type": "code",
      "execution_count": null,
      "id": "78",
      "metadata": {
        "colab": {
          "base_uri": "https://localhost:8080/"
        },
        "id": "78",
        "outputId": "28529132-3f8c-4c7a-8951-0fc0da97b671"
      },
      "outputs": [],
      "source": [
        "resp = requests.post(\n",
        "    model_endpoints[0], json=model_query_datapoint, headers=tb.common.api.headers\n",
        ")\n",
        "resp.json()"
      ]
    },
    {
      "cell_type": "code",
      "execution_count": 61,
      "id": "80",
      "metadata": {
        "id": "80"
      },
      "outputs": [],
      "source": [
        "deployed_model_htc.add_metric(\"WindowedAUC\")"
      ]
    },
    {
      "cell_type": "code",
      "execution_count": null,
      "id": "82",
      "metadata": {
        "colab": {
          "base_uri": "https://localhost:8080/"
        },
        "id": "82",
        "outputId": "2e6bbec0-f9a6-46e5-86cc-f114c4190a7d"
      },
      "outputs": [],
      "source": [
        "model_auc_scores = deployed_model_htc.get_evaluation(\"WindowedAUC\")\n",
        "model_auc_scores[-1]"
      ]
    }
  ],
  "metadata": {
    "colab": {
      "include_colab_link": true,
      "provenance": []
    },
    "kernelspec": {
      "display_name": "Python 3",
      "name": "python3"
    },
    "language_info": {
      "codemirror_mode": {
        "name": "ipython",
        "version": 3
      },
      "file_extension": ".py",
      "mimetype": "text/x-python",
      "name": "python",
      "nbconvert_exporter": "python",
      "pygments_lexer": "ipython3",
      "version": "3.11.9"
    }
  },
  "nbformat": 4,
  "nbformat_minor": 5
}
